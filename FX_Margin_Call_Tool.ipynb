{
  "nbformat": 4,
  "nbformat_minor": 0,
  "metadata": {
    "colab": {
      "provenance": []
    },
    "kernelspec": {
      "name": "python3",
      "display_name": "Python 3"
    },
    "language_info": {
      "name": "python"
    }
  },
  "cells": [
    {
      "cell_type": "code",
      "execution_count": 7,
      "metadata": {
        "colab": {
          "base_uri": "https://localhost:8080/"
        },
        "id": "_UCF6dFZre2c",
        "outputId": "c7532664-1490-45f1-fef5-d61b75b5551f"
      },
      "outputs": [
        {
          "output_type": "stream",
          "name": "stdout",
          "text": [
            "1 USD = 1.31 SGD\n"
          ]
        }
      ],
      "source": [
        "# FX Rate Checker\n",
        "import requests\n",
        "url = \"https://api.exchangerate-api.com/v4/latest/USD\"\n",
        "data = requests.get(url).json()\n",
        "sgd_rate = data[\"rates\"][\"SGD\"]  # Fixed variable name\n",
        "print(f\"1 USD = {sgd_rate} SGD\")"
      ]
    },
    {
      "cell_type": "code",
      "source": [
        "# Margin Calculator\n",
        "yesterday_rate = 1.34\n",
        "margin = (sgd_rate - yesterday_rate) * 1000000  # Added parentheses\n",
        "print(f\"Goldman Sachs owes: ${margin:,.2f} SGD\")  # Fixed formatting"
      ],
      "metadata": {
        "colab": {
          "base_uri": "https://localhost:8080/"
        },
        "id": "lj4PoXe-rjQo",
        "outputId": "ea9b1a99-ddc5-4861-929f-9e56e9d10fba"
      },
      "execution_count": 8,
      "outputs": [
        {
          "output_type": "stream",
          "name": "stdout",
          "text": [
            "Goldman Sachs owes: $-30,000.00 SGD\n"
          ]
        }
      ]
    },
    {
      "cell_type": "code",
      "source": [
        "if margin > 0:\n",
        "    print(f\"Goldman Sachs owes: ${margin:,.2f} SGD\")\n",
        "else:\n",
        "    print(f\"We owe Goldman Sachs: ${abs(margin):,.2f} SGD\")"
      ],
      "metadata": {
        "colab": {
          "base_uri": "https://localhost:8080/"
        },
        "id": "dmIe24cBtLwq",
        "outputId": "ef578f0b-c048-4599-e0a8-4ebfb69e940a"
      },
      "execution_count": 9,
      "outputs": [
        {
          "output_type": "stream",
          "name": "stdout",
          "text": [
            "We owe Goldman Sachs: $30,000.00 SGD\n"
          ]
        }
      ]
    }
  ]
}
